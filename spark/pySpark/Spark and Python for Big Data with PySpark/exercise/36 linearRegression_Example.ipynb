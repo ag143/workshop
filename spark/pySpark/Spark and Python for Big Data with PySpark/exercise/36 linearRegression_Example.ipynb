{
 "cells": [
  {
   "cell_type": "code",
   "execution_count": 1,
   "metadata": {},
   "outputs": [],
   "source": [
    "mllib = r'C:/Users/zlwan/AppData/Roaming/Python/Python37/site-packages/pyspark/data/mllib'\n",
    "\n",
    "from pyspark.sql import SparkSession\n",
    "from pyspark.ml.regression import LinearRegression\n",
    "spark = SparkSession.builder.appName('lrex').getOrCreate()"
   ]
  },
  {
   "cell_type": "code",
   "execution_count": 7,
   "metadata": {},
   "outputs": [
    {
     "name": "stdout",
     "output_type": "stream",
     "text": [
      "+-----+--------------------+\n",
      "|label|            features|\n",
      "+-----+--------------------+\n",
      "|  0.0|(692,[127,128,129...|\n",
      "+-----+--------------------+\n",
      "only showing top 1 row\n",
      "\n"
     ]
    }
   ],
   "source": [
    "training = spark.read.format('libsvm').load(f'{mllib}/sample_libsvm_data.txt')\n",
    "training.show(1)"
   ]
  },
  {
   "cell_type": "code",
   "execution_count": 15,
   "metadata": {},
   "outputs": [],
   "source": [
    "lr = LinearRegression(featuresCol='features',labelCol='label',predictionCol='prediction')\n",
    "lrModel = lr.fit(training)"
   ]
  },
  {
   "cell_type": "code",
   "execution_count": null,
   "metadata": {},
   "outputs": [],
   "source": [
    "lrModel.coefficients"
   ]
  },
  {
   "cell_type": "code",
   "execution_count": null,
   "metadata": {},
   "outputs": [],
   "source": [
    "\n",
    "lrModel.intercept"
   ]
  },
  {
   "cell_type": "code",
   "execution_count": 28,
   "metadata": {},
   "outputs": [],
   "source": [
    "training_sum = lrModel.summary"
   ]
  },
  {
   "cell_type": "code",
   "execution_count": 29,
   "metadata": {},
   "outputs": [
    {
     "data": {
      "text/plain": [
       "0.9999998176861554"
      ]
     },
     "execution_count": 29,
     "metadata": {},
     "output_type": "execute_result"
    }
   ],
   "source": [
    "training_sum.r2"
   ]
  },
  {
   "cell_type": "code",
   "execution_count": 30,
   "metadata": {},
   "outputs": [
    {
     "data": {
      "text/plain": [
       "0.00021138856000615784"
      ]
     },
     "execution_count": 30,
     "metadata": {},
     "output_type": "execute_result"
    }
   ],
   "source": [
    "training_sum.rootMeanSquaredError"
   ]
  },
  {
   "cell_type": "code",
   "execution_count": 33,
   "metadata": {},
   "outputs": [],
   "source": [
    "all_data = spark.read.format('libsvm').load(f'{mllib}/sample_libsvm_data.txt')"
   ]
  },
  {
   "cell_type": "code",
   "execution_count": 38,
   "metadata": {},
   "outputs": [
    {
     "data": {
      "text/plain": [
       "[DataFrame[label: double, features: vector],\n",
       " DataFrame[label: double, features: vector]]"
      ]
     },
     "execution_count": 38,
     "metadata": {},
     "output_type": "execute_result"
    }
   ],
   "source": [
    "split_data = all_data.randomSplit([0.7,0.3])\n",
    "split_data"
   ]
  },
  {
   "cell_type": "code",
   "execution_count": 43,
   "metadata": {},
   "outputs": [
    {
     "name": "stdout",
     "output_type": "stream",
     "text": [
      "+-------+------------------+\n",
      "|summary|             label|\n",
      "+-------+------------------+\n",
      "|  count|                72|\n",
      "|   mean|0.6111111111111112|\n",
      "| stddev|0.4909191022411197|\n",
      "|    min|               0.0|\n",
      "|    max|               1.0|\n",
      "+-------+------------------+\n",
      "\n"
     ]
    }
   ],
   "source": [
    "train_data, test_data = split_data\n",
    "train_data.describe().show()"
   ]
  },
  {
   "cell_type": "code",
   "execution_count": 44,
   "metadata": {},
   "outputs": [
    {
     "name": "stdout",
     "output_type": "stream",
     "text": [
      "+-------+------------------+\n",
      "|summary|             label|\n",
      "+-------+------------------+\n",
      "|  count|                28|\n",
      "|   mean|0.4642857142857143|\n",
      "| stddev|  0.50787450018337|\n",
      "|    min|               0.0|\n",
      "|    max|               1.0|\n",
      "+-------+------------------+\n",
      "\n"
     ]
    }
   ],
   "source": [
    "test_data.describe().show()"
   ]
  },
  {
   "cell_type": "code",
   "execution_count": 49,
   "metadata": {},
   "outputs": [
    {
     "name": "stdout",
     "output_type": "stream",
     "text": [
      "+--------------------+\n",
      "|           residuals|\n",
      "+--------------------+\n",
      "| -0.1281622815860738|\n",
      "|  -0.622047383022618|\n",
      "|  1.8609295328355555|\n",
      "| -1.0359261429688003|\n",
      "|-0.11019489336397736|\n",
      "|  -5.794379909171163|\n",
      "|0.044511660630623506|\n",
      "| 0.20866157541281471|\n",
      "|9.157468815613745E-4|\n",
      "|-0.09513332184829326|\n",
      "|-0.08401187239620189|\n",
      "|  0.3931289811445575|\n",
      "| 0.12099873242751713|\n",
      "| 0.00642974985669631|\n",
      "|-0.18391525641468998|\n",
      "|-0.02124293822689...|\n",
      "|-0.00311512957630...|\n",
      "|-0.02206325816814...|\n",
      "|0.012326489513020733|\n",
      "|-0.02740935364624...|\n",
      "+--------------------+\n",
      "only showing top 20 rows\n",
      "\n"
     ]
    }
   ],
   "source": [
    "correct_model = lr.fit(train_data)\n",
    "test_result = correct_model.evaluate(test_data)\n",
    "test_result.residuals.show()"
   ]
  },
  {
   "cell_type": "code",
   "execution_count": 50,
   "metadata": {},
   "outputs": [
    {
     "data": {
      "text/plain": [
       "1.1772400270736456"
      ]
     },
     "execution_count": 50,
     "metadata": {},
     "output_type": "execute_result"
    }
   ],
   "source": [
    "test_result.rootMeanSquaredError"
   ]
  },
  {
   "cell_type": "code",
   "execution_count": 51,
   "metadata": {},
   "outputs": [],
   "source": [
    "unlabeled_data = test_data.select('features')"
   ]
  },
  {
   "cell_type": "code",
   "execution_count": 52,
   "metadata": {},
   "outputs": [
    {
     "name": "stdout",
     "output_type": "stream",
     "text": [
      "+--------------------+--------------------+\n",
      "|            features|          prediction|\n",
      "+--------------------+--------------------+\n",
      "|(692,[98,99,100,1...|  0.1281622815860738|\n",
      "|(692,[100,101,102...|   0.622047383022618|\n",
      "|(692,[124,125,126...| -1.8609295328355555|\n",
      "|(692,[124,125,126...|  1.0359261429688003|\n",
      "|(692,[124,125,126...| 0.11019489336397736|\n",
      "|(692,[125,126,127...|   5.794379909171163|\n",
      "|(692,[126,127,128...|-0.04451166063062...|\n",
      "|(692,[126,127,128...|-0.20866157541281471|\n",
      "|(692,[126,127,128...|-9.15746881561374...|\n",
      "|(692,[128,129,130...| 0.09513332184829326|\n",
      "|(692,[150,151,152...| 0.08401187239620189|\n",
      "|(692,[152,153,154...| -0.3931289811445575|\n",
      "|(692,[153,154,155...|-0.12099873242751713|\n",
      "|(692,[154,155,156...|-0.00642974985669631|\n",
      "|(692,[154,155,156...| 0.18391525641468998|\n",
      "|(692,[124,125,126...|   1.021242938226895|\n",
      "|(692,[126,127,128...|  1.0031151295763014|\n",
      "|(692,[126,127,128...|  1.0220632581681492|\n",
      "|(692,[127,128,155...|  0.9876735104869793|\n",
      "|(692,[128,129,130...|   1.027409353646242|\n",
      "+--------------------+--------------------+\n",
      "only showing top 20 rows\n",
      "\n"
     ]
    }
   ],
   "source": [
    "predictions = correct_model.transform(unlabeled_data)\n",
    "predictions.show()"
   ]
  },
  {
   "cell_type": "code",
   "execution_count": null,
   "metadata": {},
   "outputs": [],
   "source": []
  }
 ],
 "metadata": {
  "interpreter": {
   "hash": "57baa5815c940fdaff4d14510622de9616cae602444507ba5d0b6727c008cbd6"
  },
  "kernelspec": {
   "display_name": "Python 3.7.8 64-bit",
   "name": "python3"
  },
  "language_info": {
   "codemirror_mode": {
    "name": "ipython",
    "version": 3
   },
   "file_extension": ".py",
   "mimetype": "text/x-python",
   "name": "python",
   "nbconvert_exporter": "python",
   "pygments_lexer": "ipython3",
   "version": "3.7.8"
  },
  "orig_nbformat": 4
 },
 "nbformat": 4,
 "nbformat_minor": 2
}
